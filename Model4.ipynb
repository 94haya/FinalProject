{
 "cells": [
  {
   "cell_type": "code",
   "execution_count": 6,
   "metadata": {},
   "outputs": [],
   "source": [
    "import numpy as np\n",
    "import pickle\n",
    "import cv2\n",
    "import tensorflow as tf\n",
    "from os import listdir\n",
    "from sklearn import preprocessing\n",
    "from sklearn.preprocessing import LabelBinarizer\n",
    "from tensorflow.keras.layers import BatchNormalization\n",
    "from keras.models import Sequential\n",
    "import tensorflow\n",
    "from tensorflow.keras import optimizers\n",
    "# from keras.layers.normalization import BatchNormalization\n",
    "from keras.layers.convolutional import Conv2D\n",
    "from tensorflow.keras.applications.resnet50 import ResNet50\n",
    "from keras.layers.convolutional import MaxPooling2D\n",
    "from keras.layers.core import Activation, Flatten, Dropout, Dense\n",
    "from keras import backend as K\n",
    "from keras.preprocessing.image import ImageDataGenerator\n",
    "from keras.optimizers import Adam\n",
    "# from keras.preprocessing import image\n",
    "# from keras.preprocessing.image import img_to_array\n",
    "from tensorflow.keras.utils import img_to_array\n",
    "from sklearn.preprocessing import MultiLabelBinarizer\n",
    "from sklearn.model_selection import train_test_split\n",
    "import matplotlib.pyplot as plt\n",
    "import os\n",
    "from keras.models import Model\n",
    "import keras\n",
    "from keras.layers import Conv2D, MaxPooling2D, Flatten, Dense, Dropout, InputLayer\n",
    "from keras.models import Sequential\n",
    "from keras import optimizers\n",
    "from keras.callbacks import EarlyStopping, ReduceLROnPlateau\n",
    "os.environ['TF_CPP_MIN_LOG_LEVEL'] = '2'\n"
   ]
  },
  {
   "cell_type": "code",
   "execution_count": 2,
   "metadata": {},
   "outputs": [],
   "source": [
    "EPOCHS = 25\n",
    "INIT_LR = 1e-3\n",
    "BS = 32\n",
    "default_image_size = tuple((64, 64))\n",
    "image_size = 0\n",
    "width=64\n",
    "height=64\n",
    "depth=3\n",
    "image_size = 0\n",
    "directory_root = \"C://Users//9942038100//Desktop//UNI-Project//input\"\n"
   ]
  },
  {
   "cell_type": "code",
   "execution_count": 12,
   "metadata": {},
   "outputs": [
    {
     "name": "stdout",
     "output_type": "stream",
     "text": [
      "[INFO] Loading images ...\n",
      "[INFO] Processing dieseased ...\n",
      "[INFO] Processing healthy ...\n",
      "[INFO] Image loading completed\n",
      "3100\n",
      "['dieseased' 'healthy']\n",
      "[INFO] Spliting data to train, test\n"
     ]
    }
   ],
   "source": [
    "def convert_image_to_array(image_dir):\n",
    "    try:\n",
    "        image = cv2.imread(image_dir)\n",
    "        if image is not None :\n",
    "            image = cv2.resize(image, default_image_size)   \n",
    "            return img_to_array(image)\n",
    "        else :\n",
    "            return np.array([])\n",
    "    except Exception as e:\n",
    "        print(\"Error :\", e)\n",
    "        return None\n",
    "\n",
    "image_list, label_list = [], []\n",
    "try:\n",
    "    print(\"[INFO] Loading images ...\")\n",
    "    root_dir = listdir(directory_root)\n",
    "    for directory in root_dir :\n",
    "        # remove .DS_Store from list\n",
    "        if directory == \".DS_Store\" :\n",
    "            root_dir.remove(directory)\n",
    "\n",
    "    for plant_folder in root_dir :\n",
    "    \n",
    "        plant_disease_folder_list = listdir(f\"{directory_root}/{plant_folder}\")\n",
    "        \n",
    "        for disease_folder in plant_disease_folder_list :\n",
    "            # remove .DS_Store from list\n",
    "            if disease_folder == \".DS_Store\" :\n",
    "                plant_disease_folder_list.remove(disease_folder)\n",
    "    for plant_disease_folder in plant_disease_folder_list:\n",
    "            print(f\"[INFO] Processing {plant_disease_folder} ...\")\n",
    "            plant_disease_image_list = listdir(f\"{directory_root}/{plant_folder}/{plant_disease_folder}/\")\n",
    "                \n",
    "            for single_plant_disease_image in plant_disease_image_list :\n",
    "                if single_plant_disease_image == \".DS_Store\" :\n",
    "                    plant_disease_image_list.remove(single_plant_disease_image)\n",
    "\n",
    "            for image in plant_disease_image_list:\n",
    "                image_directory = f\"{directory_root}/{plant_folder}/{plant_disease_folder}/{image}\"\n",
    "                if image_directory.endswith(\".jpg\") == True or image_directory.endswith(\".JPG\") == True:\n",
    "                    image_list.append(convert_image_to_array(image_directory))\n",
    "                    label_list.append(plant_disease_folder)\n",
    "    print(\"[INFO] Image loading completed\")  \n",
    "except Exception as e:\n",
    "    print(f\"Error : {e}\")            \n",
    "image_size = len(image_list) #num of imgs\n",
    "print(image_size) \n",
    "label_binarizer =LabelBinarizer() # convert lable to 0/1\n",
    "image_labels = label_binarizer.fit_transform(label_list) # to reduce the range to (0-1)\n",
    "pickle.dump(label_binarizer,open('label_transform.pkl', 'wb'))\n",
    "n_classes = len(label_binarizer.classes_)\n",
    "print(label_binarizer.classes_) \n",
    "np_image_list = np.array(image_list, dtype=np.float16) / 225.0\n",
    "print(\"[INFO] Spliting data to train, test\")\n",
    "x_train, x_test, y_train, y_test = train_test_split(np_image_list, image_labels, test_size=0.10, random_state = 42)\n",
    "aug = ImageDataGenerator(\n",
    "    rotation_range=25, width_shift_range=0.1,\n",
    "    height_shift_range=0.1, shear_range=0.2, \n",
    "    zoom_range=0.2,horizontal_flip=True, \n",
    "    fill_mode=\"nearest\")\n",
    "inputShape = (height, width, depth)\n"
   ]
  },
  {
   "cell_type": "code",
   "execution_count": 13,
   "metadata": {},
   "outputs": [],
   "source": [
    "classifier = Sequential()\n",
    "classifier.add(Conv2D(32,(3,3),input_shape=(64,64,3)))\n",
    "classifier.add(Activation('relu'))\n",
    "classifier.add(MaxPooling2D(pool_size =(2,2)))\n",
    "classifier.add(Conv2D(32,(3,3))) \n",
    "classifier.add(Activation('relu'))\n",
    "classifier.add(MaxPooling2D(pool_size =(2,2)))\n",
    "classifier.add(Conv2D(32,(3,3))) \n",
    "classifier.add(Activation('relu'))\n",
    "classifier.add(MaxPooling2D(pool_size =(2,2)))\n",
    "classifier.add(Flatten())\n",
    "classifier.add(Dense(64))\n",
    "classifier.add(Activation('relu'))\n",
    "classifier.add(Dropout(0.3))\n",
    "classifier.add(Dense(1))\n",
    "classifier.add(Activation('sigmoid'))"
   ]
  },
  {
   "cell_type": "code",
   "execution_count": 14,
   "metadata": {},
   "outputs": [
    {
     "name": "stdout",
     "output_type": "stream",
     "text": [
      "Model: \"sequential_1\"\n",
      "_________________________________________________________________\n",
      " Layer (type)                Output Shape              Param #   \n",
      "=================================================================\n",
      " conv2d_3 (Conv2D)           (None, 62, 62, 32)        896       \n",
      "                                                                 \n",
      " activation_5 (Activation)   (None, 62, 62, 32)        0         \n",
      "                                                                 \n",
      " max_pooling2d_3 (MaxPooling  (None, 31, 31, 32)       0         \n",
      " 2D)                                                             \n",
      "                                                                 \n",
      " conv2d_4 (Conv2D)           (None, 29, 29, 32)        9248      \n",
      "                                                                 \n",
      " activation_6 (Activation)   (None, 29, 29, 32)        0         \n",
      "                                                                 \n",
      " max_pooling2d_4 (MaxPooling  (None, 14, 14, 32)       0         \n",
      " 2D)                                                             \n",
      "                                                                 \n",
      " conv2d_5 (Conv2D)           (None, 12, 12, 32)        9248      \n",
      "                                                                 \n",
      " activation_7 (Activation)   (None, 12, 12, 32)        0         \n",
      "                                                                 \n",
      " max_pooling2d_5 (MaxPooling  (None, 6, 6, 32)         0         \n",
      " 2D)                                                             \n",
      "                                                                 \n",
      " flatten_1 (Flatten)         (None, 1152)              0         \n",
      "                                                                 \n",
      " dense_2 (Dense)             (None, 64)                73792     \n",
      "                                                                 \n",
      " activation_8 (Activation)   (None, 64)                0         \n",
      "                                                                 \n",
      " dropout_1 (Dropout)         (None, 64)                0         \n",
      "                                                                 \n",
      " dense_3 (Dense)             (None, 1)                 65        \n",
      "                                                                 \n",
      " activation_9 (Activation)   (None, 1)                 0         \n",
      "                                                                 \n",
      "=================================================================\n",
      "Total params: 93,249\n",
      "Trainable params: 93,249\n",
      "Non-trainable params: 0\n",
      "_________________________________________________________________\n"
     ]
    },
    {
     "name": "stderr",
     "output_type": "stream",
     "text": [
      "c:\\Users\\9942038100\\AppData\\Local\\Programs\\Python\\Python310\\lib\\site-packages\\keras\\optimizers\\optimizer_v2\\rmsprop.py:140: UserWarning: The `lr` argument is deprecated, use `learning_rate` instead.\n",
      "  super().__init__(name, **kwargs)\n"
     ]
    }
   ],
   "source": [
    "#Model Compiling\n",
    "classifier.compile(loss='binary_crossentropy',\n",
    "              optimizer=optimizers.RMSprop(lr=2e-5),\n",
    "              metrics=['acc'])\n",
    "classifier.summary()   "
   ]
  },
  {
   "cell_type": "code",
   "execution_count": 19,
   "metadata": {},
   "outputs": [],
   "source": [
    "earlystop = EarlyStopping(patience=10)\n",
    "learning_rate_reduction = ReduceLROnPlateau(monitor='val_acc', \n",
    "                                            patience=2, \n",
    "                                            verbose=1, \n",
    "                                            factor=0.5, \n",
    "                                            min_lr=0.00001)\n",
    "callbacks = [earlystop, learning_rate_reduction]"
   ]
  },
  {
   "cell_type": "code",
   "execution_count": 16,
   "metadata": {},
   "outputs": [
    {
     "name": "stdout",
     "output_type": "stream",
     "text": [
      "Epoch 1/25\n"
     ]
    },
    {
     "name": "stderr",
     "output_type": "stream",
     "text": [
      "C:\\Users\\9942038100\\AppData\\Local\\Temp\\ipykernel_2544\\933490869.py:1: UserWarning: `Model.fit_generator` is deprecated and will be removed in a future version. Please use `Model.fit`, which supports generators.\n",
      "  history = classifier.fit_generator(\n"
     ]
    },
    {
     "name": "stdout",
     "output_type": "stream",
     "text": [
      "87/87 [==============================] - 10s 101ms/step - loss: 0.6894 - acc: 0.4993 - val_loss: 0.6915 - val_acc: 0.4710 - lr: 2.0000e-05\n",
      "Epoch 2/25\n",
      "87/87 [==============================] - 9s 102ms/step - loss: 0.6860 - acc: 0.5174 - val_loss: 0.6858 - val_acc: 0.4710 - lr: 2.0000e-05\n",
      "Epoch 3/25\n",
      "87/87 [==============================] - 8s 88ms/step - loss: 0.6778 - acc: 0.5172 - val_loss: 0.6765 - val_acc: 0.4903 - lr: 2.0000e-05\n",
      "Epoch 4/25\n",
      "87/87 [==============================] - 8s 86ms/step - loss: 0.6717 - acc: 0.5344 - val_loss: 0.6680 - val_acc: 0.5290 - lr: 2.0000e-05\n",
      "Epoch 5/25\n",
      "87/87 [==============================] - 7s 85ms/step - loss: 0.6618 - acc: 0.5732 - val_loss: 0.6544 - val_acc: 0.5968 - lr: 2.0000e-05\n",
      "Epoch 6/25\n",
      "87/87 [==============================] - 8s 90ms/step - loss: 0.6473 - acc: 0.6276 - val_loss: 0.6353 - val_acc: 0.7161 - lr: 2.0000e-05\n",
      "Epoch 7/25\n",
      "87/87 [==============================] - 7s 86ms/step - loss: 0.6286 - acc: 0.6820 - val_loss: 0.6146 - val_acc: 0.7419 - lr: 2.0000e-05\n",
      "Epoch 8/25\n",
      "87/87 [==============================] - 7s 86ms/step - loss: 0.6056 - acc: 0.7263 - val_loss: 0.5886 - val_acc: 0.7806 - lr: 2.0000e-05\n",
      "Epoch 9/25\n",
      "87/87 [==============================] - 7s 85ms/step - loss: 0.5839 - acc: 0.7509 - val_loss: 0.5657 - val_acc: 0.7806 - lr: 2.0000e-05\n",
      "Epoch 10/25\n",
      "87/87 [==============================] - 8s 95ms/step - loss: 0.5593 - acc: 0.7763 - val_loss: 0.5400 - val_acc: 0.7935 - lr: 2.0000e-05\n",
      "Epoch 11/25\n",
      "87/87 [==============================] - 7s 84ms/step - loss: 0.5323 - acc: 0.7893 - val_loss: 0.5175 - val_acc: 0.8065 - lr: 2.0000e-05\n",
      "Epoch 12/25\n",
      "87/87 [==============================] - 7s 84ms/step - loss: 0.5108 - acc: 0.7977 - val_loss: 0.5011 - val_acc: 0.8129 - lr: 2.0000e-05\n",
      "Epoch 13/25\n",
      "87/87 [==============================] - 8s 86ms/step - loss: 0.4905 - acc: 0.8075 - val_loss: 0.4803 - val_acc: 0.8129 - lr: 2.0000e-05\n",
      "Epoch 14/25\n",
      "87/87 [==============================] - 8s 88ms/step - loss: 0.4667 - acc: 0.8133 - val_loss: 0.4613 - val_acc: 0.8161 - lr: 2.0000e-05\n",
      "Epoch 15/25\n",
      "87/87 [==============================] - 8s 86ms/step - loss: 0.4463 - acc: 0.8212 - val_loss: 0.4568 - val_acc: 0.8258 - lr: 2.0000e-05\n",
      "Epoch 16/25\n",
      "87/87 [==============================] - 7s 84ms/step - loss: 0.4326 - acc: 0.8249 - val_loss: 0.4309 - val_acc: 0.8226 - lr: 2.0000e-05\n",
      "Epoch 17/25\n",
      "87/87 [==============================] - ETA: 0s - loss: 0.4171 - acc: 0.8249\n",
      "Epoch 17: ReduceLROnPlateau reducing learning rate to 1e-05.\n",
      "87/87 [==============================] - 7s 84ms/step - loss: 0.4171 - acc: 0.8249 - val_loss: 0.4168 - val_acc: 0.8129 - lr: 2.0000e-05\n",
      "Epoch 18/25\n",
      "87/87 [==============================] - 8s 86ms/step - loss: 0.4116 - acc: 0.8289 - val_loss: 0.4155 - val_acc: 0.8226 - lr: 1.0000e-05\n",
      "Epoch 19/25\n",
      "87/87 [==============================] - 7s 84ms/step - loss: 0.3962 - acc: 0.8296 - val_loss: 0.4136 - val_acc: 0.8194 - lr: 1.0000e-05\n",
      "Epoch 20/25\n",
      "87/87 [==============================] - 7s 84ms/step - loss: 0.3892 - acc: 0.8321 - val_loss: 0.4007 - val_acc: 0.8258 - lr: 1.0000e-05\n",
      "Epoch 21/25\n",
      "87/87 [==============================] - 7s 85ms/step - loss: 0.3868 - acc: 0.8343 - val_loss: 0.4110 - val_acc: 0.8194 - lr: 1.0000e-05\n",
      "Epoch 22/25\n",
      "87/87 [==============================] - 8s 87ms/step - loss: 0.3821 - acc: 0.8347 - val_loss: 0.4024 - val_acc: 0.8194 - lr: 1.0000e-05\n",
      "Epoch 23/25\n",
      "87/87 [==============================] - 7s 85ms/step - loss: 0.3764 - acc: 0.8445 - val_loss: 0.3884 - val_acc: 0.8226 - lr: 1.0000e-05\n",
      "Epoch 24/25\n",
      "87/87 [==============================] - 7s 83ms/step - loss: 0.3726 - acc: 0.8412 - val_loss: 0.3911 - val_acc: 0.8258 - lr: 1.0000e-05\n",
      "Epoch 25/25\n",
      "87/87 [==============================] - 7s 85ms/step - loss: 0.3710 - acc: 0.8376 - val_loss: 0.3897 - val_acc: 0.8258 - lr: 1.0000e-05\n"
     ]
    }
   ],
   "source": [
    "history = classifier.fit_generator(\n",
    "    aug.flow(x_train, y_train, batch_size=BS),\n",
    "    validation_data=(x_test, y_test),\n",
    "    steps_per_epoch=len(x_train)//BS,\n",
    "    epochs=EPOCHS, verbose=1,\n",
    "    callbacks=callbacks\n",
    "    )"
   ]
  },
  {
   "cell_type": "code",
   "execution_count": 17,
   "metadata": {},
   "outputs": [
    {
     "name": "stdout",
     "output_type": "stream",
     "text": [
      "dict_keys(['loss', 'acc', 'val_loss', 'val_acc', 'lr'])\n"
     ]
    },
    {
     "data": {
      "image/png": "[encoded data removed]",
      "text/plain": [
       "<Figure size 432x288 with 1 Axes>"
      ]
     },
     "metadata": {
      "needs_background": "light"
     },
     "output_type": "display_data"
    },
    {
     "data": {
      "image/png": "[encoded data removed]",
      "text/plain": [
       "<Figure size 432x288 with 1 Axes>"
      ]
     },
     "metadata": {
      "needs_background": "light"
     },
     "output_type": "display_data"
    }
   ],
   "source": [
    "print(history.history.keys())\n",
    "plt.plot(history.history['acc'])\n",
    "plt.plot(history.history['val_acc'])\n",
    "plt.title('model accuracy')\n",
    "plt.ylabel('accuracy')\n",
    "plt.xlabel('epoch')\n",
    "plt.legend(['train', 'test'], loc='upper left')\n",
    "plt.show()\n",
    "plt.plot(history.history['loss'])\n",
    "plt.plot(history.history['val_loss'])\n",
    "plt.title('model loss')\n",
    "plt.ylabel('loss')\n",
    "plt.xlabel('epoch')\n",
    "plt.legend(['train', 'test'], loc='upper left')\n",
    "plt.show()"
   ]
  },
  {
   "cell_type": "code",
   "execution_count": 20,
   "metadata": {},
   "outputs": [],
   "source": [
    "import h5py\n",
    "classifier.save('trained_model4.h5')"
   ]
  }
 ],
 "metadata": {
  "kernelspec": {
   "display_name": "Python 3.10.4 64-bit",
   "language": "python",
   "name": "python3"
  },
  "language_info": {
   "codemirror_mode": {
    "name": "ipython",
    "version": 3
   },
   "file_extension": ".py",
   "mimetype": "text/x-python",
   "name": "python",
   "nbconvert_exporter": "python",
   "pygments_lexer": "ipython3",
   "version": "3.10.4"
  },
  "orig_nbformat": 4,
  "vscode": {
   "interpreter": {
    "hash": "c699ccfc5fbf0215e61830e71f3b534d4402f77d295a9f1595541a02d8a433e3"
   }
  }
 },
 "nbformat": 4,
 "nbformat_minor": 2
}
